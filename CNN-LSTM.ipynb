{
 "cells": [
  {
   "cell_type": "code",
   "execution_count": 1,
   "id": "a13945d2",
   "metadata": {},
   "outputs": [
    {
     "name": "stdout",
     "output_type": "stream",
     "text": [
      "STOCK : BTC-USD\n"
     ]
    },
    {
     "data": {
      "text/html": [
       "<div>\n",
       "<style scoped>\n",
       "    .dataframe tbody tr th:only-of-type {\n",
       "        vertical-align: middle;\n",
       "    }\n",
       "\n",
       "    .dataframe tbody tr th {\n",
       "        vertical-align: top;\n",
       "    }\n",
       "\n",
       "    .dataframe thead th {\n",
       "        text-align: right;\n",
       "    }\n",
       "</style>\n",
       "<table border=\"1\" class=\"dataframe\">\n",
       "  <thead>\n",
       "    <tr style=\"text-align: right;\">\n",
       "      <th></th>\n",
       "      <th>Open</th>\n",
       "      <th>High</th>\n",
       "      <th>Low</th>\n",
       "      <th>Close</th>\n",
       "      <th>Volume</th>\n",
       "      <th>Dividends</th>\n",
       "      <th>Stock Splits</th>\n",
       "    </tr>\n",
       "    <tr>\n",
       "      <th>Date</th>\n",
       "      <th></th>\n",
       "      <th></th>\n",
       "      <th></th>\n",
       "      <th></th>\n",
       "      <th></th>\n",
       "      <th></th>\n",
       "      <th></th>\n",
       "    </tr>\n",
       "  </thead>\n",
       "  <tbody>\n",
       "    <tr>\n",
       "      <th>2014-09-17 00:00:00+00:00</th>\n",
       "      <td>465.864014</td>\n",
       "      <td>468.174011</td>\n",
       "      <td>452.421997</td>\n",
       "      <td>457.334015</td>\n",
       "      <td>21056800</td>\n",
       "      <td>0.0</td>\n",
       "      <td>0.0</td>\n",
       "    </tr>\n",
       "    <tr>\n",
       "      <th>2014-09-18 00:00:00+00:00</th>\n",
       "      <td>456.859985</td>\n",
       "      <td>456.859985</td>\n",
       "      <td>413.104004</td>\n",
       "      <td>424.440002</td>\n",
       "      <td>34483200</td>\n",
       "      <td>0.0</td>\n",
       "      <td>0.0</td>\n",
       "    </tr>\n",
       "    <tr>\n",
       "      <th>2014-09-19 00:00:00+00:00</th>\n",
       "      <td>424.102997</td>\n",
       "      <td>427.834991</td>\n",
       "      <td>384.532013</td>\n",
       "      <td>394.795990</td>\n",
       "      <td>37919700</td>\n",
       "      <td>0.0</td>\n",
       "      <td>0.0</td>\n",
       "    </tr>\n",
       "    <tr>\n",
       "      <th>2014-09-20 00:00:00+00:00</th>\n",
       "      <td>394.673004</td>\n",
       "      <td>423.295990</td>\n",
       "      <td>389.882996</td>\n",
       "      <td>408.903992</td>\n",
       "      <td>36863600</td>\n",
       "      <td>0.0</td>\n",
       "      <td>0.0</td>\n",
       "    </tr>\n",
       "    <tr>\n",
       "      <th>2014-09-21 00:00:00+00:00</th>\n",
       "      <td>408.084991</td>\n",
       "      <td>412.425995</td>\n",
       "      <td>393.181000</td>\n",
       "      <td>398.821014</td>\n",
       "      <td>26580100</td>\n",
       "      <td>0.0</td>\n",
       "      <td>0.0</td>\n",
       "    </tr>\n",
       "  </tbody>\n",
       "</table>\n",
       "</div>"
      ],
      "text/plain": [
       "                                 Open        High         Low       Close  \\\n",
       "Date                                                                        \n",
       "2014-09-17 00:00:00+00:00  465.864014  468.174011  452.421997  457.334015   \n",
       "2014-09-18 00:00:00+00:00  456.859985  456.859985  413.104004  424.440002   \n",
       "2014-09-19 00:00:00+00:00  424.102997  427.834991  384.532013  394.795990   \n",
       "2014-09-20 00:00:00+00:00  394.673004  423.295990  389.882996  408.903992   \n",
       "2014-09-21 00:00:00+00:00  408.084991  412.425995  393.181000  398.821014   \n",
       "\n",
       "                             Volume  Dividends  Stock Splits  \n",
       "Date                                                          \n",
       "2014-09-17 00:00:00+00:00  21056800        0.0           0.0  \n",
       "2014-09-18 00:00:00+00:00  34483200        0.0           0.0  \n",
       "2014-09-19 00:00:00+00:00  37919700        0.0           0.0  \n",
       "2014-09-20 00:00:00+00:00  36863600        0.0           0.0  \n",
       "2014-09-21 00:00:00+00:00  26580100        0.0           0.0  "
      ]
     },
     "execution_count": 1,
     "metadata": {},
     "output_type": "execute_result"
    }
   ],
   "source": [
    "import yfinance as yf\n",
    "import numpy as np\n",
    "import pandas as pd\n",
    "import tensorflow as tf\n",
    "import datetime as dt\n",
    "from keras.layers import Reshape\n",
    "from sklearn.preprocessing import MinMaxScaler\n",
    "from sklearn.model_selection import train_test_split\n",
    "from tensorflow.keras.models import Sequential\n",
    "from tensorflow.keras.layers import Conv1D, MaxPooling1D, Flatten, Dense,AveragePooling1D,GlobalAveragePooling1D,Dropout\n",
    "import matplotlib.pyplot as plt\n",
    "from sklearn.metrics import mean_squared_error\n",
    "from keras.models import Sequential, Model\n",
    "from keras.layers import LSTM, Conv1D, MaxPooling1D, Flatten, Input, concatenate\n",
    "from math import sqrt\n",
    "start = dt.datetime(2000,1,1)\n",
    "\n",
    "# endDate , as per our convenience we can modify\n",
    "end = dt.datetime.now()\n",
    "startdate=end\n",
    "company = input('STOCK : ')\n",
    "df = yf.Ticker(company)\n",
    "\n",
    "# pass the parameters as the taken dates for start and end\n",
    "data =df.history(start=start,end=end)\n",
    "\n",
    "data.head(5)"
   ]
  },
  {
   "cell_type": "code",
   "execution_count": 2,
   "id": "71992dfb",
   "metadata": {},
   "outputs": [],
   "source": [
    "def preprocess_data(data, target_col, sequence_length=10):\n",
    "    data=data.drop(['Dividends','Stock Splits'],axis=1)\n",
    "    scaler = MinMaxScaler(feature_range=(0, 1))\n",
    "#     data_scaled = scaler.fit_transform(data[[target_col]])\n",
    "    \n",
    "    # Normalize the data\n",
    "    data_scaled = scaler.fit_transform(data['Close'].values.reshape(-1, 1))\n",
    "\n",
    "    features, targets = [], []\n",
    "\n",
    "    for i in range(len(data_scaled) - sequence_length):\n",
    "        features.append(data_scaled[i:i + sequence_length])\n",
    "        targets.append(data_scaled[i + sequence_length])\n",
    "\n",
    "    features, targets = np.array(features), np.array(targets)\n",
    "    \n",
    "\n",
    "    return features, targets, scaler"
   ]
  },
  {
   "cell_type": "code",
   "execution_count": 3,
   "id": "42df3867",
   "metadata": {},
   "outputs": [
    {
     "name": "stdout",
     "output_type": "stream",
     "text": [
      "Fearture: [[[0.00414359]\n",
      "  [0.00365546]\n",
      "  [0.00321557]\n",
      "  ...\n",
      "  [0.00363714]\n",
      "  [0.00346454]\n",
      "  [0.00335845]]\n",
      "\n",
      " [[0.00365546]\n",
      "  [0.00321557]\n",
      "  [0.00342492]\n",
      "  ...\n",
      "  [0.00346454]\n",
      "  [0.00335845]\n",
      "  [0.00328567]]\n",
      "\n",
      " [[0.00321557]\n",
      "  [0.00342492]\n",
      "  [0.0032753 ]\n",
      "  ...\n",
      "  [0.00335845]\n",
      "  [0.00328567]\n",
      "  [0.00295417]]\n",
      "\n",
      " ...\n",
      "\n",
      " [[0.61244844]\n",
      "  [0.63382471]\n",
      "  [0.63580175]\n",
      "  ...\n",
      "  [0.62462117]\n",
      "  [0.64512494]\n",
      "  [0.64834361]]\n",
      "\n",
      " [[0.63382471]\n",
      "  [0.63580175]\n",
      "  [0.6195644 ]\n",
      "  ...\n",
      "  [0.64512494]\n",
      "  [0.64834361]\n",
      "  [0.65025417]]\n",
      "\n",
      " [[0.63580175]\n",
      "  [0.6195644 ]\n",
      "  [0.62416991]\n",
      "  ...\n",
      "  [0.64834361]\n",
      "  [0.65025417]\n",
      "  [0.6464203 ]]] , Targets: [[0.00328567]\n",
      " [0.00295417]\n",
      " [0.00292874]\n",
      " ...\n",
      " [0.65025417]\n",
      " [0.6464203 ]\n",
      " [0.64715183]] , Scaler: MinMaxScaler()\n"
     ]
    }
   ],
   "source": [
    "target_col = 'Close'\n",
    "sequence_length = 10\n",
    "features, targets, scaler = preprocess_data(data, target_col, sequence_length)\n",
    "print(f'Fearture: {features} , Targets: {targets} , Scaler: {scaler}')\n",
    "X_train, X_test, y_train, y_test = train_test_split(features, targets, test_size=0.2, random_state=42)"
   ]
  },
  {
   "cell_type": "code",
   "execution_count": 4,
   "id": "8c089230",
   "metadata": {},
   "outputs": [
    {
     "data": {
      "text/plain": [
       "(676, 10, 1)"
      ]
     },
     "execution_count": 4,
     "metadata": {},
     "output_type": "execute_result"
    }
   ],
   "source": [
    "X_test.shape"
   ]
  },
  {
   "cell_type": "code",
   "execution_count": 5,
   "id": "9a845f67",
   "metadata": {},
   "outputs": [],
   "source": [
    "#CNN MODEL\n",
    "cnn_model = Sequential()\n",
    "cnn_model.add(Conv1D(filters=128, kernel_size=3, activation='relu', input_shape=(X_train.shape[1], X_train.shape[2])))\n",
    "cnn_model.add(MaxPooling1D(pool_size=2))\n",
    "\n",
    "# cnn_model.add(Conv1D(filters=64, kernel_size=2, activation='relu', input_shape=(X_train.shape[1], X_train.shape[2])))\n",
    "# cnn_model.add(MaxPooling1D(pool_size=2))\n",
    "cnn_model.add(Flatten())"
   ]
  },
  {
   "cell_type": "code",
   "execution_count": null,
   "id": "159d8db7",
   "metadata": {},
   "outputs": [],
   "source": []
  },
  {
   "cell_type": "code",
   "execution_count": 6,
   "id": "1c9d3dbe",
   "metadata": {},
   "outputs": [
    {
     "data": {
      "text/plain": [
       "TensorShape([None, 512])"
      ]
     },
     "execution_count": 6,
     "metadata": {},
     "output_type": "execute_result"
    }
   ],
   "source": [
    "# Apply the CNN model to the input\n",
    "input_layer = Input(shape=(X_train.shape[1], X_train.shape[2]))\n",
    "encoded_cnn = cnn_model(input_layer)\n",
    "encoded_cnn.shape"
   ]
  },
  {
   "cell_type": "code",
   "execution_count": 7,
   "id": "694f4de4",
   "metadata": {},
   "outputs": [
    {
     "data": {
      "text/plain": [
       "TensorShape([None, 512, 1])"
      ]
     },
     "execution_count": 7,
     "metadata": {},
     "output_type": "execute_result"
    }
   ],
   "source": [
    "# Reshape the output for LSTM\n",
    "reshaped_output = Reshape((encoded_cnn.shape[1], 1))(encoded_cnn)\n",
    "reshaped_output.shape"
   ]
  },
  {
   "cell_type": "code",
   "execution_count": 8,
   "id": "19685678",
   "metadata": {},
   "outputs": [],
   "source": [
    "# # Build the LSTM model on top of the reshaped output\n",
    "# lstm_model = Sequential()\n",
    "# lstm_model.add(LSTM(50, input_shape=(reshaped_output.shape[1], reshaped_output.shape[2])))\n",
    "# lstm_model.add(Dense(1))\n",
    "\n",
    "lstm_model = Sequential()\n",
    "lstm_model.add(LSTM(50, input_shape=(reshaped_output.shape[1], reshaped_output.shape[2])))\n",
    "lstm_model.add(Dropout(0.2))\n",
    "\n",
    "# model.add(LSTM(units=50, return_sequences=True))\n",
    "# model.add(Dropout(0.2))\n",
    "\n",
    "# model.add(LSTM(units=50))\n",
    "# model.add(Dropout(0.2))\n",
    "\n",
    "lstm_model.add(Dense(units=1))"
   ]
  },
  {
   "cell_type": "code",
   "execution_count": 9,
   "id": "33abb946",
   "metadata": {},
   "outputs": [
    {
     "data": {
      "text/plain": [
       "TensorShape([None, 1])"
      ]
     },
     "execution_count": 9,
     "metadata": {},
     "output_type": "execute_result"
    }
   ],
   "source": [
    "# Apply the LSTM model on the reshaped output\n",
    "\n",
    "final_output = lstm_model(reshaped_output)\n",
    "final_output.shape"
   ]
  },
  {
   "cell_type": "code",
   "execution_count": 10,
   "id": "5f50b3b9",
   "metadata": {},
   "outputs": [],
   "source": [
    "# Build the complete model\n",
    "hybrid_model = Model(inputs=input_layer, outputs=final_output)"
   ]
  },
  {
   "cell_type": "code",
   "execution_count": 11,
   "id": "3c57c6ac",
   "metadata": {},
   "outputs": [],
   "source": [
    "# Compile the model\n",
    "hybrid_model.compile(optimizer='adam', loss='mean_squared_error', metrics=['mae'])\n"
   ]
  },
  {
   "cell_type": "code",
   "execution_count": 12,
   "id": "df665253",
   "metadata": {},
   "outputs": [
    {
     "name": "stdout",
     "output_type": "stream",
     "text": [
      "Epoch 1/50\n",
      "68/68 [==============================] - 10s 129ms/step - loss: 0.0516 - mae: 0.1708 - val_loss: 0.0421 - val_mae: 0.1384\n",
      "Epoch 2/50\n",
      "68/68 [==============================] - 9s 126ms/step - loss: 0.0197 - mae: 0.1064 - val_loss: 0.0015 - val_mae: 0.0316\n",
      "Epoch 3/50\n",
      "68/68 [==============================] - 8s 119ms/step - loss: 0.0020 - mae: 0.0290 - val_loss: 4.5398e-04 - val_mae: 0.0161\n",
      "Epoch 4/50\n",
      "68/68 [==============================] - 8s 124ms/step - loss: 0.0013 - mae: 0.0223 - val_loss: 3.8053e-04 - val_mae: 0.0142\n",
      "Epoch 5/50\n",
      "68/68 [==============================] - 9s 126ms/step - loss: 0.0013 - mae: 0.0225 - val_loss: 4.2731e-04 - val_mae: 0.0157\n",
      "Epoch 6/50\n",
      "68/68 [==============================] - 8s 116ms/step - loss: 0.0012 - mae: 0.0214 - val_loss: 6.4319e-04 - val_mae: 0.0205\n",
      "Epoch 7/50\n",
      "68/68 [==============================] - 8s 111ms/step - loss: 0.0013 - mae: 0.0223 - val_loss: 2.8605e-04 - val_mae: 0.0113\n",
      "Epoch 8/50\n",
      "68/68 [==============================] - 8s 111ms/step - loss: 0.0012 - mae: 0.0200 - val_loss: 2.7211e-04 - val_mae: 0.0098\n",
      "Epoch 9/50\n",
      "68/68 [==============================] - 8s 120ms/step - loss: 9.3117e-04 - mae: 0.0183 - val_loss: 3.5332e-04 - val_mae: 0.0121\n",
      "Epoch 10/50\n",
      "68/68 [==============================] - 8s 115ms/step - loss: 9.3746e-04 - mae: 0.0187 - val_loss: 4.3187e-04 - val_mae: 0.0142\n",
      "Epoch 11/50\n",
      "68/68 [==============================] - 8s 121ms/step - loss: 0.0010 - mae: 0.0190 - val_loss: 2.5681e-04 - val_mae: 0.0100\n",
      "Epoch 12/50\n",
      "68/68 [==============================] - 8s 125ms/step - loss: 9.9603e-04 - mae: 0.0185 - val_loss: 2.5154e-04 - val_mae: 0.0100\n",
      "Epoch 13/50\n",
      "68/68 [==============================] - 9s 130ms/step - loss: 0.0010 - mae: 0.0190 - val_loss: 2.5919e-04 - val_mae: 0.0097\n",
      "Epoch 14/50\n",
      "68/68 [==============================] - 8s 123ms/step - loss: 0.0010 - mae: 0.0204 - val_loss: 7.5167e-04 - val_mae: 0.0238\n",
      "Epoch 15/50\n",
      "68/68 [==============================] - 8s 117ms/step - loss: 8.8159e-04 - mae: 0.0193 - val_loss: 2.8798e-04 - val_mae: 0.0102\n",
      "Epoch 16/50\n",
      "68/68 [==============================] - 8s 125ms/step - loss: 9.7484e-04 - mae: 0.0181 - val_loss: 2.7289e-04 - val_mae: 0.0120\n",
      "Epoch 17/50\n",
      "68/68 [==============================] - 9s 127ms/step - loss: 8.5210e-04 - mae: 0.0181 - val_loss: 2.3465e-04 - val_mae: 0.0099\n",
      "Epoch 18/50\n",
      "68/68 [==============================] - 9s 133ms/step - loss: 8.3740e-04 - mae: 0.0171 - val_loss: 2.7502e-04 - val_mae: 0.0096\n",
      "Epoch 19/50\n",
      "68/68 [==============================] - 9s 134ms/step - loss: 8.1588e-04 - mae: 0.0168 - val_loss: 2.2282e-04 - val_mae: 0.0090\n",
      "Epoch 20/50\n",
      "68/68 [==============================] - 8s 119ms/step - loss: 8.0171e-04 - mae: 0.0168 - val_loss: 2.1760e-04 - val_mae: 0.0075\n",
      "Epoch 21/50\n",
      "68/68 [==============================] - 9s 139ms/step - loss: 9.2053e-04 - mae: 0.0178 - val_loss: 2.5890e-04 - val_mae: 0.0091\n",
      "Epoch 22/50\n",
      "68/68 [==============================] - 11s 157ms/step - loss: 7.3659e-04 - mae: 0.0158 - val_loss: 2.4075e-04 - val_mae: 0.0098\n",
      "Epoch 23/50\n",
      "68/68 [==============================] - 10s 151ms/step - loss: 8.2553e-04 - mae: 0.0173 - val_loss: 2.6576e-04 - val_mae: 0.0098\n",
      "Epoch 24/50\n",
      "68/68 [==============================] - 10s 155ms/step - loss: 8.3948e-04 - mae: 0.0171 - val_loss: 2.2882e-04 - val_mae: 0.0091\n",
      "Epoch 25/50\n",
      "68/68 [==============================] - 10s 153ms/step - loss: 8.3338e-04 - mae: 0.0166 - val_loss: 4.8335e-04 - val_mae: 0.0134\n",
      "Epoch 26/50\n",
      "68/68 [==============================] - 11s 155ms/step - loss: 9.2455e-04 - mae: 0.0189 - val_loss: 3.1741e-04 - val_mae: 0.0094\n",
      "Epoch 27/50\n",
      "68/68 [==============================] - 8s 113ms/step - loss: 7.1227e-04 - mae: 0.0158 - val_loss: 2.2169e-04 - val_mae: 0.0085\n",
      "Epoch 28/50\n",
      "68/68 [==============================] - 7s 110ms/step - loss: 7.3416e-04 - mae: 0.0159 - val_loss: 2.8763e-04 - val_mae: 0.0127\n",
      "Epoch 29/50\n",
      "68/68 [==============================] - 8s 111ms/step - loss: 7.7994e-04 - mae: 0.0169 - val_loss: 4.3493e-04 - val_mae: 0.0174\n",
      "Epoch 30/50\n",
      "68/68 [==============================] - 7s 110ms/step - loss: 6.8791e-04 - mae: 0.0164 - val_loss: 2.2486e-04 - val_mae: 0.0094\n",
      "Epoch 31/50\n",
      "68/68 [==============================] - 7s 110ms/step - loss: 7.4999e-04 - mae: 0.0165 - val_loss: 2.5652e-04 - val_mae: 0.0099\n",
      "Epoch 32/50\n",
      "68/68 [==============================] - 8s 112ms/step - loss: 6.3248e-04 - mae: 0.0152 - val_loss: 2.1460e-04 - val_mae: 0.0077\n",
      "Epoch 33/50\n",
      "68/68 [==============================] - 8s 120ms/step - loss: 6.0885e-04 - mae: 0.0149 - val_loss: 4.9364e-04 - val_mae: 0.0167\n",
      "Epoch 34/50\n",
      "68/68 [==============================] - 8s 114ms/step - loss: 9.4430e-04 - mae: 0.0200 - val_loss: 4.4006e-04 - val_mae: 0.0165\n",
      "Epoch 35/50\n",
      "68/68 [==============================] - 9s 138ms/step - loss: 7.2558e-04 - mae: 0.0165 - val_loss: 2.4007e-04 - val_mae: 0.0098\n",
      "Epoch 36/50\n",
      "68/68 [==============================] - 11s 155ms/step - loss: 7.7926e-04 - mae: 0.0162 - val_loss: 2.1823e-04 - val_mae: 0.0091\n",
      "Epoch 37/50\n",
      "68/68 [==============================] - 11s 155ms/step - loss: 6.3899e-04 - mae: 0.0159 - val_loss: 2.7347e-04 - val_mae: 0.0110\n",
      "Epoch 38/50\n",
      "68/68 [==============================] - 11s 164ms/step - loss: 6.6213e-04 - mae: 0.0155 - val_loss: 2.4825e-04 - val_mae: 0.0109\n",
      "Epoch 39/50\n",
      "68/68 [==============================] - 11s 168ms/step - loss: 7.6547e-04 - mae: 0.0164 - val_loss: 3.0004e-04 - val_mae: 0.0134\n",
      "Epoch 40/50\n",
      "68/68 [==============================] - 11s 168ms/step - loss: 6.7373e-04 - mae: 0.0151 - val_loss: 2.2741e-04 - val_mae: 0.0098\n",
      "Epoch 41/50\n",
      "68/68 [==============================] - 10s 147ms/step - loss: 7.0172e-04 - mae: 0.0157 - val_loss: 2.4473e-04 - val_mae: 0.0108\n",
      "Epoch 42/50\n",
      "68/68 [==============================] - 9s 126ms/step - loss: 7.5410e-04 - mae: 0.0178 - val_loss: 2.1235e-04 - val_mae: 0.0081\n",
      "Epoch 43/50\n",
      "68/68 [==============================] - 9s 130ms/step - loss: 7.0224e-04 - mae: 0.0164 - val_loss: 2.5389e-04 - val_mae: 0.0111\n",
      "Epoch 44/50\n",
      "68/68 [==============================] - 10s 149ms/step - loss: 6.5596e-04 - mae: 0.0154 - val_loss: 2.3022e-04 - val_mae: 0.0084\n",
      "Epoch 45/50\n",
      "68/68 [==============================] - 9s 140ms/step - loss: 7.3100e-04 - mae: 0.0167 - val_loss: 2.5048e-04 - val_mae: 0.0111\n",
      "Epoch 46/50\n",
      "68/68 [==============================] - 9s 130ms/step - loss: 7.4262e-04 - mae: 0.0171 - val_loss: 2.5531e-04 - val_mae: 0.0092\n",
      "Epoch 47/50\n",
      "68/68 [==============================] - 8s 124ms/step - loss: 6.3720e-04 - mae: 0.0156 - val_loss: 2.4778e-04 - val_mae: 0.0087\n",
      "Epoch 48/50\n",
      "68/68 [==============================] - 8s 113ms/step - loss: 7.2120e-04 - mae: 0.0172 - val_loss: 4.1892e-04 - val_mae: 0.0134\n",
      "Epoch 49/50\n",
      "68/68 [==============================] - 10s 143ms/step - loss: 7.0520e-04 - mae: 0.0165 - val_loss: 3.5935e-04 - val_mae: 0.0118\n",
      "Epoch 50/50\n",
      "68/68 [==============================] - 11s 155ms/step - loss: 6.6012e-04 - mae: 0.0159 - val_loss: 2.5984e-04 - val_mae: 0.0113\n"
     ]
    }
   ],
   "source": [
    "# Train the model\n",
    "history=hybrid_model.fit(X_train, y_train, epochs=50, batch_size=32, validation_split=0.2)"
   ]
  },
  {
   "cell_type": "code",
   "execution_count": 13,
   "id": "1ec2d931",
   "metadata": {},
   "outputs": [
    {
     "name": "stdout",
     "output_type": "stream",
     "text": [
      "22/22 [==============================] - 1s 44ms/step - loss: 3.0322e-04 - mae: 0.0124\n"
     ]
    }
   ],
   "source": [
    "test_loss, test_mae=hybrid_model.evaluate(X_test, y_test, verbose=1)"
   ]
  },
  {
   "cell_type": "code",
   "execution_count": 14,
   "id": "e1cd7697",
   "metadata": {},
   "outputs": [
    {
     "name": "stdout",
     "output_type": "stream",
     "text": [
      "Test mae: 1.24%\n",
      "Test Loss: 0.0003\n"
     ]
    }
   ],
   "source": [
    "print(f'Test mae: {test_mae * 100:.2f}%')\n",
    "print(f'Test Loss: {test_loss:.4f}')"
   ]
  },
  {
   "cell_type": "code",
   "execution_count": 15,
   "id": "fcdddee6",
   "metadata": {},
   "outputs": [],
   "source": [
    "# def make_predictions(hybrid_model, X_test, scaler):\n",
    "#     predictions = hybrid_model.predict(X_test)\n",
    "#     predictions = scaler.inverse_transform(predictions)\n",
    "\n",
    "#     return predictions\n",
    "# predictions = make_predictions(hybrid_model, X_test, scaler)\n",
    "\n",
    "# mse = mean_squared_error(scaler.inverse_transform(y_test), predictions)\n",
    "\n",
    "# print(f'Mean Squared Error: {mse}')"
   ]
  },
  {
   "cell_type": "code",
   "execution_count": 16,
   "id": "842e4dca",
   "metadata": {},
   "outputs": [
    {
     "name": "stdout",
     "output_type": "stream",
     "text": [
      "Final Training loss: 0.07%\n",
      "Final Validation loss: 0.03%\n"
     ]
    }
   ],
   "source": [
    "# Extract loss and validation loss from the training history\n",
    "train_loss = history.history['loss']\n",
    "val_loss = history.history['val_loss']\n",
    "\n",
    "# Print the final accuracy\n",
    "final_train_loss = train_loss[-1]\n",
    "final_val_loss = val_loss[-1]\n",
    "print(f\"Final Training loss: {final_train_loss * 100:.2f}%\")\n",
    "print(f\"Final Validation loss: {final_val_loss * 100:.2f}%\")"
   ]
  },
  {
   "cell_type": "code",
   "execution_count": 17,
   "id": "e240ad7e",
   "metadata": {},
   "outputs": [
    {
     "data": {
      "image/png": "[encoded data removed]",
      "text/plain": [
       "<Figure size 640x480 with 1 Axes>"
      ]
     },
     "metadata": {},
     "output_type": "display_data"
    }
   ],
   "source": [
    "# Plot learning curves\n",
    "plt.plot(range(1, len(train_loss) + 1), train_loss, label='Training Loss')\n",
    "plt.plot(range(1, len(val_loss) + 1), val_loss, label='Validation Loss')\n",
    "plt.title('Learning Curves')\n",
    "plt.xlabel('Epochs')\n",
    "plt.ylabel('Loss')\n",
    "plt.legend()\n",
    "plt.show()"
   ]
  },
  {
   "cell_type": "code",
   "execution_count": 18,
   "id": "5b40f26d",
   "metadata": {},
   "outputs": [
    {
     "name": "stdout",
     "output_type": "stream",
     "text": [
      "22/22 [==============================] - 1s 36ms/step - loss: 3.0322e-04 - mae: 0.0124\n",
      "Mean Squared Error: 0.00030321598751470447\n",
      "Mean Absolute Error: 0.01236565038561821\n"
     ]
    }
   ],
   "source": [
    "loss, mae = hybrid_model.evaluate(X_test, y_test)\n",
    "\n",
    "# Print the evaluation results\n",
    "print(f'Mean Squared Error: {loss}')\n",
    "print(f'Mean Absolute Error: {mae}')\n"
   ]
  },
  {
   "cell_type": "code",
   "execution_count": 19,
   "id": "ab0b75b0",
   "metadata": {},
   "outputs": [
    {
     "name": "stdout",
     "output_type": "stream",
     "text": [
      "22/22 [==============================] - 1s 37ms/step\n"
     ]
    }
   ],
   "source": [
    "# Predict on the test set\n",
    "y_pred = hybrid_model.predict(X_test)\n",
    "\n",
    "# Inverse transform predictions to original scale\n",
    "y_pred_original = scaler.inverse_transform(y_pred.reshape(-1, 1))\n",
    "y_test_original = scaler.inverse_transform(y_test.reshape(-1, 1))"
   ]
  },
  {
   "cell_type": "code",
   "execution_count": 20,
   "id": "6a9d830a",
   "metadata": {},
   "outputs": [
    {
     "data": {
      "text/plain": [
       "(676, 1)"
      ]
     },
     "execution_count": 20,
     "metadata": {},
     "output_type": "execute_result"
    }
   ],
   "source": [
    "y_pred_original.shape"
   ]
  },
  {
   "cell_type": "code",
   "execution_count": 21,
   "id": "90d5dda3",
   "metadata": {},
   "outputs": [
    {
     "data": {
      "image/png": "[encoded data removed]",
      "text/plain": [
       "<Figure size 640x480 with 1 Axes>"
      ]
     },
     "metadata": {},
     "output_type": "display_data"
    }
   ],
   "source": [
    "# Visualize predictions\n",
    "plt.plot(y_test_original, label='True')\n",
    "plt.plot(y_pred_original, label='Predicted')\n",
    "plt.legend()\n",
    "plt.show()"
   ]
  },
  {
   "cell_type": "code",
   "execution_count": null,
   "id": "ca530ef1",
   "metadata": {},
   "outputs": [
    {
     "name": "stdout",
     "output_type": "stream",
     "text": [
      "STOCK : BTC-USD\n",
      "Feature: (3376, 10, 1) , Targets: (3376, 1) , Scaler: MinMaxScaler()\n",
      "Epoch 1/30\n",
      "68/68 [==============================] - 11s 131ms/step - loss: 0.0407 - mae: 0.1445 - val_loss: 0.0021 - val_mae: 0.0306\n",
      "Epoch 2/30\n",
      "68/68 [==============================] - 9s 126ms/step - loss: 0.0016 - mae: 0.0251 - val_loss: 4.7783e-04 - val_mae: 0.0143\n",
      "Epoch 3/30\n",
      "68/68 [==============================] - 9s 134ms/step - loss: 0.0012 - mae: 0.0204 - val_loss: 2.6543e-04 - val_mae: 0.0106\n",
      "Epoch 4/30\n",
      "31/68 [============>.................] - ETA: 4s - loss: 0.0010 - mae: 0.0197  "
     ]
    }
   ],
   "source": [
    "\n",
    "import yfinance as yf\n",
    "import numpy as np\n",
    "import pandas as pd\n",
    "import tensorflow as tf\n",
    "import datetime as dt\n",
    "from sklearn.preprocessing import MinMaxScaler\n",
    "from sklearn.model_selection import train_test_split\n",
    "from tensorflow.keras.models import Sequential, Model\n",
    "from tensorflow.keras.layers import Conv1D, MaxPooling1D, Flatten, Dense, Input, LSTM, Dropout\n",
    "import matplotlib.pyplot as plt\n",
    "\n",
    "start = dt.datetime(2000, 1, 1)\n",
    "end = dt.datetime.now()\n",
    "startdate = end\n",
    "company = input('STOCK : ')\n",
    "df = yf.Ticker(company)\n",
    "data = df.history(start=start, end=end)\n",
    "\n",
    "def preprocess_data(data, target_col, sequence_length=10):\n",
    "    data = data.drop(['Dividends', 'Stock Splits'], axis=1)\n",
    "    scaler = MinMaxScaler(feature_range=(0, 1))\n",
    "    data_scaled = scaler.fit_transform(data[[target_col]])\n",
    "\n",
    "    features, targets = [], []\n",
    "\n",
    "    for i in range(len(data_scaled) - sequence_length):\n",
    "        features.append(data_scaled[i:i + sequence_length])\n",
    "        targets.append(data_scaled[i + sequence_length])\n",
    "\n",
    "    features, targets = np.array(features), np.array(targets)\n",
    "\n",
    "    return features, targets, scaler\n",
    "\n",
    "target_col = 'Close'\n",
    "sequence_length = 10\n",
    "features, targets, scaler = preprocess_data(data, target_col, sequence_length)\n",
    "print(f'Feature: {features.shape} , Targets: {targets.shape} , Scaler: {scaler}')\n",
    "\n",
    "X_train, X_test, y_train, y_test = train_test_split(features, targets, test_size=0.2, random_state=42)\n",
    "\n",
    "# CNN MODEL\n",
    "cnn_model = Sequential()\n",
    "cnn_model.add(Conv1D(filters=128, kernel_size=3, activation='tanh', input_shape=(X_train.shape[1], X_train.shape[2])))\n",
    "cnn_model.add(MaxPooling1D(pool_size=2))\n",
    "cnn_model.add(Flatten())\n",
    "\n",
    "# Apply the CNN model to the input\n",
    "input_layer = Input(shape=(X_train.shape[1], X_train.shape[2]))\n",
    "encoded_cnn = cnn_model(input_layer)\n",
    "\n",
    "# Reshape the output for LSTM\n",
    "reshaped_output = Reshape((encoded_cnn.shape[1], 1))(encoded_cnn)\n",
    "\n",
    "# Build the LSTM model on top of the reshaped output\n",
    "lstm_model = Sequential()\n",
    "lstm_model.add(LSTM(50, input_shape=(reshaped_output.shape[1], reshaped_output.shape[2])))\n",
    "lstm_model.add(Dropout(0.2))\n",
    "lstm_model.add(Dense(units=1))\n",
    "\n",
    "# Apply the LSTM model on the reshaped output\n",
    "final_output = lstm_model(reshaped_output)\n",
    "\n",
    "# Build the complete model\n",
    "hybrid_model = Model(inputs=input_layer, outputs=final_output)\n",
    "# Compile the model\n",
    "hybrid_model.compile(optimizer='adam', loss='mean_squared_error', metrics=['mae'])\n",
    "# Train the model\n",
    "history = hybrid_model.fit(X_train, y_train, epochs=30, batch_size=32, validation_split=0.2)\n",
    "\n",
    "# Evaluate the model\n",
    "test_loss, test_mae = hybrid_model.evaluate(X_test, y_test, verbose=1)\n",
    "loss, mae = hybrid_model.evaluate(X_test, y_test)\n",
    "\n",
    "# Print the evaluation results\n",
    "print(f'Mean Squared Error: {loss}')\n",
    "print(f'Mean Absolute Error: {mae}')\n",
    "\n",
    "# Predict on the test set\n",
    "y_pred = hybrid_model.predict(X_test)\n",
    "\n",
    "# Inverse transform predictions to original scale\n",
    "y_pred_original = scaler.inverse_transform(y_pred[:, -1].reshape(-1, 1))\n",
    "y_test_original = scaler.inverse_transform(y_test[:, -1].reshape(-1, 1))\n",
    "\n",
    "# Plot actual vs. predicted values\n",
    "plt.figure(figsize=(12, 6))\n",
    "plt.plot(data.index[-len(y_test):], y_test_original, label='Actual Closing Prices', marker='o')\n",
    "plt.plot(data.index[-len(y_pred_original):], y_pred_original, label='Predicted Closing Prices', linestyle='dashed', marker='o')\n",
    "plt.title('Actual vs. Predicted Closing Prices')\n",
    "plt.xlabel('Date')\n",
    "plt.ylabel('Closing Price')\n",
    "plt.legend()\n",
    "plt.grid(True)\n",
    "plt.show()\n"
   ]
  },
  {
   "cell_type": "code",
   "execution_count": 29,
   "id": "af52727f",
   "metadata": {},
   "outputs": [
    {
     "name": "stdout",
     "output_type": "stream",
     "text": [
      "Root Mean Squared Error: 1258.612158210873\n",
      "Accuracy: 91.10%\n"
     ]
    }
   ],
   "source": [
    "\n",
    "# Inverse transform the predictions and true values to the original scale\n",
    "y_pred_inv = scaler.inverse_transform(y_pred[:, -1].reshape(-1, 1))\n",
    "y_test_inv = scaler.inverse_transform(y_test[:, -1].reshape(-1, 1))\n",
    "\n",
    "# Calculate accuracy and error percentage\n",
    "rmse = sqrt(mean_squared_error(y_test_inv, y_pred_inv))\n",
    "accuracy = 100 - (rmse / np.mean(y_test_inv)) * 100\n",
    "\n",
    "print(f'Root Mean Squared Error: {rmse}')\n",
    "print(f'Accuracy: {accuracy:.2f}%')"
   ]
  }
 ],
 "metadata": {
  "kernelspec": {
   "display_name": "Python 3 (ipykernel)",
   "language": "python",
   "name": "python3"
  },
  "language_info": {
   "codemirror_mode": {
    "name": "ipython",
    "version": 3
   },
   "file_extension": ".py",
   "mimetype": "text/x-python",
   "name": "python",
   "nbconvert_exporter": "python",
   "pygments_lexer": "ipython3",
   "version": "3.11.5"
  }
 },
 "nbformat": 4,
 "nbformat_minor": 5
}
